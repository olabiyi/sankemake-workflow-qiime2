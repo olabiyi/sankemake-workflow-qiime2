{
 "cells": [
  {
   "cell_type": "code",
   "execution_count": 1,
   "metadata": {},
   "outputs": [],
   "source": [
    "from qiime2.plugins import feature_table\n",
    "from qiime2 import Artifact\n",
    "import biom\n",
    "import pandas as pd\n",
    "from qiime2.plugins import diversity\n",
    "from qiime2 import Metadata"
   ]
  },
  {
   "cell_type": "code",
   "execution_count": 3,
   "metadata": {},
   "outputs": [],
   "source": [
    "# Load an artifact. In this case a feature table i.e ASV or OTU table\n",
    "unrarefied_table = Artifact.load('../04.filter_table/noChlr_noMitoch_noSingleton_filtered_table.qza')"
   ]
  },
  {
   "cell_type": "code",
   "execution_count": 5,
   "metadata": {},
   "outputs": [
    {
     "name": "stdout",
     "output_type": "stream",
     "text": [
      "# Constructed from biom file\n",
      "#OTU ID\tSRR3202913\tSRR3202914\tSRR3202915\tSRR3202916\tSRR3202917\n",
      "65fb08bed0eeb24cfff33eeedfad522f\t0.0\t0.0\t0.0\t0.0\t0.0\n",
      "1ca86d303424bc40036ec3cdac72d8ad\t0.0\t0.0\t0.0\t0.0\t0.0\n",
      "4a0f23475dad7251063a5a39cf12d27f\t0.0\t0.0\t0.0\t0.0\t0.0\n",
      "36bb069fa6345961fc82056566252ace\t0.0\t0.0\t0.0\t0.0\t0.0\n",
      "58a85ad58122a7097ce75583f34d8626\t0.0\t0.0\t0.0\t0.0\t0.0\n"
     ]
    }
   ],
   "source": [
    "biom_table = unrarefied_table.view(biom.Table)\n",
    "print(biom_table.head())"
   ]
  },
  {
   "cell_type": "code",
   "execution_count": 6,
   "metadata": {},
   "outputs": [
    {
     "data": {
      "text/plain": [
       "['__class__',\n",
       " '__delattr__',\n",
       " '__dict__',\n",
       " '__dir__',\n",
       " '__doc__',\n",
       " '__eq__',\n",
       " '__format__',\n",
       " '__ge__',\n",
       " '__getattribute__',\n",
       " '__getitem__',\n",
       " '__gt__',\n",
       " '__hash__',\n",
       " '__init__',\n",
       " '__init_subclass__',\n",
       " '__iter__',\n",
       " '__le__',\n",
       " '__lt__',\n",
       " '__module__',\n",
       " '__ne__',\n",
       " '__new__',\n",
       " '__reduce__',\n",
       " '__reduce_ex__',\n",
       " '__repr__',\n",
       " '__setattr__',\n",
       " '__sizeof__',\n",
       " '__str__',\n",
       " '__subclasshook__',\n",
       " '__weakref__',\n",
       " '_axis_to_num',\n",
       " '_cast_metadata',\n",
       " '_conv_to_self_type',\n",
       " '_data',\n",
       " '_data_equality',\n",
       " '_extract_data_from_tsv',\n",
       " '_get_col',\n",
       " '_get_row',\n",
       " '_get_sparse_data',\n",
       " '_index',\n",
       " '_index_ids',\n",
       " '_intersect_id_order',\n",
       " '_invert_axis',\n",
       " '_iter_obs',\n",
       " '_iter_samp',\n",
       " '_obs_index',\n",
       " '_observation_group_metadata',\n",
       " '_observation_ids',\n",
       " '_observation_metadata',\n",
       " '_sample_group_metadata',\n",
       " '_sample_ids',\n",
       " '_sample_index',\n",
       " '_sample_metadata',\n",
       " '_to_dense',\n",
       " '_to_sparse',\n",
       " '_union_id_order',\n",
       " 'add_group_metadata',\n",
       " 'add_metadata',\n",
       " 'align_to',\n",
       " 'collapse',\n",
       " 'concat',\n",
       " 'copy',\n",
       " 'create_date',\n",
       " 'data',\n",
       " 'del_metadata',\n",
       " 'delimited_self',\n",
       " 'descriptive_equality',\n",
       " 'dtype',\n",
       " 'exists',\n",
       " 'filter',\n",
       " 'format_version',\n",
       " 'from_hdf5',\n",
       " 'from_json',\n",
       " 'from_tsv',\n",
       " 'generated_by',\n",
       " 'get_table_density',\n",
       " 'get_value_by_ids',\n",
       " 'group_metadata',\n",
       " 'head',\n",
       " 'ids',\n",
       " 'index',\n",
       " 'is_empty',\n",
       " 'iter',\n",
       " 'iter_data',\n",
       " 'iter_pairwise',\n",
       " 'length',\n",
       " 'matrix_data',\n",
       " 'max',\n",
       " 'merge',\n",
       " 'metadata',\n",
       " 'metadata_to_dataframe',\n",
       " 'min',\n",
       " 'nnz',\n",
       " 'nonzero',\n",
       " 'nonzero_counts',\n",
       " 'norm',\n",
       " 'pa',\n",
       " 'partition',\n",
       " 'rankdata',\n",
       " 'reduce',\n",
       " 'remove_empty',\n",
       " 'shape',\n",
       " 'sort',\n",
       " 'sort_order',\n",
       " 'subsample',\n",
       " 'sum',\n",
       " 'table_id',\n",
       " 'to_dataframe',\n",
       " 'to_hdf5',\n",
       " 'to_json',\n",
       " 'to_tsv',\n",
       " 'transform',\n",
       " 'transpose',\n",
       " 'type',\n",
       " 'update_ids']"
      ]
     },
     "execution_count": 6,
     "metadata": {},
     "output_type": "execute_result"
    }
   ],
   "source": [
    "dir(biom_table)"
   ]
  },
  {
   "cell_type": "code",
   "execution_count": 7,
   "metadata": {},
   "outputs": [
    {
     "data": {
      "text/plain": [
       "Results (name = value)\n",
       "-----------------------------------------------------------------------------------------\n",
       "visualization = <visualization: Visualization uuid: 263155b8-cf49-4f4e-8ffa-a2394a949cfd>"
      ]
     },
     "execution_count": 7,
     "metadata": {},
     "output_type": "execute_result"
    }
   ],
   "source": [
    "feature_table.actions.filter_samples()"
   ]
  }
 ],
 "metadata": {
  "kernelspec": {
   "display_name": "Python 3",
   "language": "python",
   "name": "python3"
  },
  "language_info": {
   "codemirror_mode": {
    "name": "ipython",
    "version": 3
   },
   "file_extension": ".py",
   "mimetype": "text/x-python",
   "name": "python",
   "nbconvert_exporter": "python",
   "pygments_lexer": "ipython3",
   "version": "3.6.7"
  }
 },
 "nbformat": 4,
 "nbformat_minor": 2
}
